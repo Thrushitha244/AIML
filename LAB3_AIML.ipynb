{
  "nbformat": 4,
  "nbformat_minor": 0,
  "metadata": {
    "colab": {
      "provenance": [],
      "authorship_tag": "ABX9TyM0OdYc2AS8u22J9XetYYhr",
      "include_colab_link": true
    },
    "kernelspec": {
      "name": "python3",
      "display_name": "Python 3"
    },
    "language_info": {
      "name": "python"
    }
  },
  "cells": [
    {
      "cell_type": "markdown",
      "metadata": {
        "id": "view-in-github",
        "colab_type": "text"
      },
      "source": [
        "<a href=\"https://colab.research.google.com/github/Thrushitha244/AIML/blob/main/LAB3_AIML.ipynb\" target=\"_parent\"><img src=\"https://colab.research.google.com/assets/colab-badge.svg\" alt=\"Open In Colab\"/></a>"
      ]
    },
    {
      "cell_type": "code",
      "execution_count": 11,
      "metadata": {
        "id": "541DpKQw9lX8"
      },
      "outputs": [],
      "source": [
        "from copy import deepcopy\n",
        "import numpy as np\n",
        "import time"
      ]
    },
    {
      "cell_type": "code",
      "source": [
        "def bestsolution(state):\n",
        "  bestsol = np.array([], int).reshape(-1, 9)\n",
        "  count = len(state) - 1\n",
        "  while count != -1:\n",
        "    bestsol = np.insert(bestsol, 0, state[count]['puzzle'], 0)\n",
        "    count = state[count]['parent']\n",
        "  return bestsol.reshape(-1, 3, 3)"
      ],
      "metadata": {
        "id": "Hl74Gg9BAqip"
      },
      "execution_count": 12,
      "outputs": []
    },
    {
      "cell_type": "code",
      "source": [
        "def all(checkarray):\n",
        "  set = []\n",
        "  for it in set:\n",
        "    for checkarray in it:\n",
        "      return 1\n",
        "    else:\n",
        "      return 0"
      ],
      "metadata": {
        "id": "8oTEKs-iRhdS"
      },
      "execution_count": null,
      "outputs": []
    },
    {
      "cell_type": "code",
      "source": [
        "def misplaced_tiles(puzzle, goal):\n",
        "  mscost = np.sum(puzzle != goal) - 1\n",
        "  return mscost if mscost > 0 else 0"
      ],
      "metadata": {
        "id": "9pBUZSUaRsfj"
      },
      "execution_count": null,
      "outputs": []
    },
    {
      "cell_type": "code",
      "source": [
        "def coordinates(puzzle):\n",
        "  pos = np.array(range(9))\n",
        "  for p, q in enumerate(puzzle):\n",
        "    pos[q] = p\n",
        "  return pos"
      ],
      "metadata": {
        "id": "OGXIPuWiRwFP"
      },
      "execution_count": null,
      "outputs": []
    },
    {
      "cell_type": "code",
      "source": [
        "def evaluvate_misplaced(puzzle, goal):\n",
        "    steps = np.array([\n",
        "        ('up', [0, 1, 2], -3),\n",
        "        ('down', [6, 7, 8], 3),\n",
        "        ('left', [0, 3, 6], -1),\n",
        "        ('right', [2, 5, 8], 1)\n",
        "    ], dtype=[('move', str, 5), ('position', object), ('head', int)])\n",
        "\n",
        "    dtstate = [('puzzle', object), ('parent', int), ('gn', int), ('hn', int)]\n",
        "    costg = coordinates(goal) # coordinates function is now available\n",
        "    parent = -1\n",
        "    gn = 0\n",
        "    hn = misplaced_tiles(coordinates(puzzle), costg)\n",
        "    state = np.array([(puzzle, parent, gn, hn)], dtstate)\n",
        "    dtpriority = [('position', int), ('fn', int)]\n",
        "    priority = np.array([(0, hn)], dtpriority)\n",
        "\n",
        "    start_time = time.time()\n",
        "    while True:\n",
        "        priority = np.sort(priority, kind='mergesort', order=['fn', 'position'])\n",
        "        position, fn = priority[0]\n",
        "        priority = np.delete(priority, 0, 0)\n",
        "        puzzle, parent, gn, hn = state[position]\n",
        "        puzzle = np.array(puzzle)\n",
        "        blank = int(np.where(puzzle == 0)[0])\n",
        "        gn = gn + 1\n",
        "\n",
        "        for s in steps:\n",
        "            if blank not in s['position']:\n",
        "                openstates = deepcopy(puzzle)\n",
        "                openstates[blank], openstates[blank + s['head']] = openstates[blank + s['head']], openstates[blank]\n",
        "\n",
        "                if not any(np.array_equal(st, openstates) for st in state['puzzle']):\n",
        "                    hn = misplaced_tiles(coordinates(openstates), costg)\n",
        "                    q = np.array([(openstates, position, gn, hn)], dtstate)\n",
        "                    state = np.append(state, q, 0)\n",
        "                    fn = gn + hn\n",
        "                    q = np.array([(len(state) - 1, fn)], dtpriority)\n",
        "                    priority = np.append(priority, q, 0)\n",
        "\n",
        "                    if np.array_equal(openstates, goal):\n",
        "                        print('The 8-puzzle is solvable\\n')\n",
        "                        return state, len(priority)\n",
        "\n",
        "        end_time = time.time()\n",
        "        if (end_time - start_time) > 2:\n",
        "            print(\"The 8-puzzle is unsolvable\\n\")\n",
        "            break\n",
        "\n",
        "    return state, len(priority)"
      ],
      "metadata": {
        "id": "_cX62QZsRznC"
      },
      "execution_count": null,
      "outputs": []
    },
    {
      "cell_type": "code",
      "source": [
        "puzzle=[]\n",
        "puzzle.append(2)\n",
        "puzzle.append(8)\n",
        "puzzle.append(3)\n",
        "puzzle.append(1)\n",
        "puzzle.append(6)\n",
        "puzzle.append(4)\n",
        "puzzle.append(7)\n",
        "puzzle.append(0)\n",
        "puzzle.append(5)\n",
        "\n",
        "goal=[]\n",
        "goal.append(1)\n",
        "goal.append(2)\n",
        "goal.append(3)\n",
        "goal.append(8)\n",
        "goal.append(0)\n",
        "goal.append(4)\n",
        "goal.append(7)\n",
        "goal.append(6)\n",
        "goal.append(5)\n",
        "\n",
        "state, visited = evaluvate_misplaced(puzzle,goal)\n",
        "\n",
        "bestpath=bestsolution(state)\n",
        "\n",
        "print(str(bestpath).replace('[', ' ').replace(']', ''))\n",
        "\n",
        "totalmoves=len(bestpath)-1\n",
        "print('\\nSteps to reach goal state :',totalmoves)\n",
        "\n",
        "visit=len(state)-visited\n",
        "print('Total nodes visted :',visit,\"\\n\")"
      ],
      "metadata": {
        "colab": {
          "base_uri": "https://localhost:8080/"
        },
        "id": "YTijXdIRGhKa",
        "outputId": "4562d9d7-ede0-48bf-9d04-0c82fcf11011"
      },
      "execution_count": null,
      "outputs": [
        {
          "output_type": "stream",
          "name": "stdout",
          "text": [
            "The 8-puzzle is solvable\n",
            "\n",
            "   2 8 3\n",
            "   1 6 4\n",
            "   7 0 5\n",
            "\n",
            "   2 8 3\n",
            "   1 0 4\n",
            "   7 6 5\n",
            "\n",
            "   2 0 3\n",
            "   1 8 4\n",
            "   7 6 5\n",
            "\n",
            "   0 2 3\n",
            "   1 8 4\n",
            "   7 6 5\n",
            "\n",
            "   1 2 3\n",
            "   0 8 4\n",
            "   7 6 5\n",
            "\n",
            "   1 2 3\n",
            "   8 0 4\n",
            "   7 6 5\n",
            "\n",
            "Steps to reach goal state : 5\n",
            "Total nodes visted : 6 \n",
            "\n"
          ]
        },
        {
          "output_type": "stream",
          "name": "stderr",
          "text": [
            "<ipython-input-6-77d56c69eb3d>:25: DeprecationWarning: Conversion of an array with ndim > 0 to a scalar is deprecated, and will error in future. Ensure you extract a single element from your array before performing this operation. (Deprecated NumPy 1.25.)\n",
            "  blank = int(np.where(puzzle == 0)[0])\n"
          ]
        }
      ]
    },
    {
      "cell_type": "code",
      "source": [
        "from collections import namedtuple, Counter, defaultdict\n",
        "import random\n",
        "import math\n",
        "import functools\n",
        "cache=functools. lru_cache (10**6)"
      ],
      "metadata": {
        "id": "D_qd65yjOokh"
      },
      "execution_count": null,
      "outputs": []
    },
    {
      "cell_type": "code",
      "source": [
        "class Game:\n",
        "  def actions (self, state):\n",
        "    raise NotImplementedError\n",
        "    def result(self, state, action):\n",
        "      raise NotImpLementedError\n",
        "    def is_terminal(self,state):\n",
        "      return not self.actions(state)\n",
        "    def utility(self,state,player):\n",
        "      raise NotImplementedError"
      ],
      "metadata": {
        "id": "2b8twvgjiiK6"
      },
      "execution_count": null,
      "outputs": []
    },
    {
      "cell_type": "code",
      "source": [
        "def play_game(game,strategies:dict,verbose=False):\n",
        "  state=game.initial\n",
        "  while not game.is_terminal(state):\n",
        "    player=state.to_move\n",
        "    move=strategies[player](game,state)\n",
        "    state=game.result(state,move)\n",
        "    if verbose:\n",
        "      print('player',player,'move:',move)\n",
        "      print(state)\n",
        "      return state"
      ],
      "metadata": {
        "id": "K4VnF98zim7z"
      },
      "execution_count": 13,
      "outputs": []
    }
  ]
}